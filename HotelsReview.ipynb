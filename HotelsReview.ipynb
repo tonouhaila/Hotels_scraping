{
  "nbformat": 4,
  "nbformat_minor": 0,
  "metadata": {
    "colab": {
      "provenance": []
    },
    "kernelspec": {
      "name": "python3",
      "display_name": "Python 3"
    },
    "language_info": {
      "name": "python"
    }
  },
  "cells": [
    {
      "cell_type": "code",
      "execution_count": null,
      "metadata": {
        "id": "71DtLfee77un"
      },
      "outputs": [],
      "source": [
        "!apt install chromium-chromedriver\n",
        "!cp /usr/lib/chromium-browser/chromedriver /usr/bin\n",
        "!pip install selenium\n",
        "!pip install beautifulsoup4"
      ]
    },
    {
      "cell_type": "code",
      "source": [
        "import sys\n",
        "import csv\n",
        "from selenium import webdriver\n",
        "from selenium.webdriver.common.by import By\n",
        "\n",
        "options = webdriver.ChromeOptions()\n",
        "options.add_argument('-headless')\n",
        "options.add_argument('-no-sandbox')\n",
        "options.add_argument('-disable-dev-shm-usage')\n",
        "\n",
        "driver = webdriver.Chrome('chromedriver',options=options)\n",
        "\n",
        "import time\n",
        "from selenium.webdriver.common.by import By\n",
        "import time\n",
        "import os\n",
        "\n",
        "import requests\n",
        "import pandas as pd\n",
        "from bs4 import BeautifulSoup\n",
        "from selenium import webdriver\n",
        "from selenium.common.exceptions import NoSuchElementException\n",
        "from selenium.common.exceptions import StaleElementReferenceException\n",
        "from selenium.webdriver.support.ui import Select\n",
        "from selenium.webdriver.common.action_chains import ActionChains\n",
        "import pandas as pd"
      ],
      "metadata": {
        "id": "bRvvqdSj9R9Y"
      },
      "execution_count": null,
      "outputs": []
    },
    {
      "cell_type": "code",
      "source": [
        "from selenium.webdriver.support.ui import WebDriverWait \n",
        "from selenium.webdriver.support import expected_conditions as EC"
      ],
      "metadata": {
        "id": "t0D-MZYu9YBW"
      },
      "execution_count": null,
      "outputs": []
    },
    {
      "cell_type": "code",
      "source": [
        "import requests\n",
        "from bs4 import BeautifulSoup\n",
        "from time import sleep\n",
        "headers = {'User-Agent': 'Mozilla/5.0 (Macintosh; Intel Mac OS X 10_11_6) AppleWebKit/601.3.9 (KHTML, like Gecko) Version/9.0.2 Safari/601.3.9'}\n",
        "dataset = []\n",
        "for page in range(0,100,10):\n",
        "    print(page)\n",
        "    url = \"\"\n",
        "    if page==0:\n",
        "        #url =\"https://www.tripadvisor.com/Hotel_Review-g293734-d10171259-Reviews-2Ciels_Luxury_Boutique_Hotel_Spa-Marrakech_Marrakech_Safi.html\"\n",
        "        #url =\"https://www.tripadvisor.com/Hotel_Review-g293734-d1071465-Reviews-Labranda_Rose_Aqua_Parc-Marrakech_Marrakech_Safi.html\"\n",
        "        #url =\"https://www.tripadvisor.com/Hotel_Review-g293734-d2486142-Reviews-Red_Hotel_Marrakech-Marrakech_Marrakech_Safi.html\"\n",
        "        #url =\"https://www.tripadvisor.com/Hotel_Review-g293734-d1485970-Reviews-Hotel_Sofitel_Marrakech_Palais_Imperial-Marrakech_Marrakech_Safi.html\"\n",
        "        url =\"https://www.tripadvisor.com/Hotel_Review-g293734-d1395785-Reviews-Novotel_Marrakech_Hivernage_Hotel-Marrakech_Marrakech_Safi.html\"\n",
        "        url = \"https://www.tripadvisor.com/Hotel_Review-g293734-d19656581-Reviews-Sol_Oasis_Marrakech-Marrakech_Marrakech_Safi.html\"\n",
        "        url = \"https://www.tripadvisor.com/Hotel_Review-g255106-d256955-Reviews-Cordis_Auckland_by_Langham_Hospitality_Group-Auckland_Central_North_Island.html\"\n",
        "    else:\n",
        "        #url = f\"https://www.tripadvisor.com/Hotel_Review-g293734-d10171259-Reviews-or{page}-2Ciels_Luxury_Boutique_Hotel_Spa-Marrakech_Marrakech_Safi.html\"\n",
        "        #url = f\"https://www.tripadvisor.com/Hotel_Review-g293734-d1071465-Reviews-or{page}-Labranda_Rose_Aqua_Parc-Marrakech_Marrakech_Safi.html\"\n",
        "        #url = f\"https://www.tripadvisor.com/Hotel_Review-g293734-d2486142-Reviews-or{page}-Red_Hotel_Marrakech-Marrakech_Marrakech_Safi.html\"\n",
        "        #url = f\"https://www.tripadvisor.com/Hotel_Review-g293734-d1485970-Reviews-or{page}-Hotel_Sofitel_Marrakech_Palais_Imperial-Marrakech_Marrakech_Safi.html\"\n",
        "        url = f\"https://www.tripadvisor.com/Hotel_Review-g293734-d1395785-Reviews-or{page}-Novotel_Marrakech_Hivernage_Hotel-Marrakech_Marrakech_Safi.html\"\n",
        "        url = f\"https://www.tripadvisor.com/Hotel_Review-g293734-d19656581-Reviews-or{page}-Sol_Oasis_Marrakech-Marrakech_Marrakech_Safi.html\"\n",
        "        url = f\"https://www.tripadvisor.com/Hotel_Review-g255106-d256955-Reviews-or{page}-Cordis_Auckland_by_Langham_Hospitality_Group-Auckland_Central_North_Island.html\"\n",
        "\n",
        "    print(url)\n",
        "    response = requests.get(url,headers=headers)\n",
        "    soup = BeautifulSoup(response.content, 'lxml')"
      ],
      "metadata": {
        "colab": {
          "base_uri": "https://localhost:8080/"
        },
        "id": "OFTbvRdd9Z70",
        "outputId": "9b6c37d0-221e-46ea-deee-19f2ac979a47"
      },
      "execution_count": null,
      "outputs": [
        {
          "output_type": "stream",
          "name": "stdout",
          "text": [
            "0\n",
            "https://www.tripadvisor.com/Hotel_Review-g255106-d256955-Reviews-Cordis_Auckland_by_Langham_Hospitality_Group-Auckland_Central_North_Island.html\n",
            "10\n",
            "https://www.tripadvisor.com/Hotel_Review-g255106-d256955-Reviews-or10-Cordis_Auckland_by_Langham_Hospitality_Group-Auckland_Central_North_Island.html\n",
            "20\n",
            "https://www.tripadvisor.com/Hotel_Review-g255106-d256955-Reviews-or20-Cordis_Auckland_by_Langham_Hospitality_Group-Auckland_Central_North_Island.html\n",
            "30\n",
            "https://www.tripadvisor.com/Hotel_Review-g255106-d256955-Reviews-or30-Cordis_Auckland_by_Langham_Hospitality_Group-Auckland_Central_North_Island.html\n",
            "40\n",
            "https://www.tripadvisor.com/Hotel_Review-g255106-d256955-Reviews-or40-Cordis_Auckland_by_Langham_Hospitality_Group-Auckland_Central_North_Island.html\n",
            "50\n",
            "https://www.tripadvisor.com/Hotel_Review-g255106-d256955-Reviews-or50-Cordis_Auckland_by_Langham_Hospitality_Group-Auckland_Central_North_Island.html\n",
            "60\n",
            "https://www.tripadvisor.com/Hotel_Review-g255106-d256955-Reviews-or60-Cordis_Auckland_by_Langham_Hospitality_Group-Auckland_Central_North_Island.html\n",
            "70\n",
            "https://www.tripadvisor.com/Hotel_Review-g255106-d256955-Reviews-or70-Cordis_Auckland_by_Langham_Hospitality_Group-Auckland_Central_North_Island.html\n",
            "80\n",
            "https://www.tripadvisor.com/Hotel_Review-g255106-d256955-Reviews-or80-Cordis_Auckland_by_Langham_Hospitality_Group-Auckland_Central_North_Island.html\n",
            "90\n",
            "https://www.tripadvisor.com/Hotel_Review-g255106-d256955-Reviews-or90-Cordis_Auckland_by_Langham_Hospitality_Group-Auckland_Central_North_Island.html\n"
          ]
        }
      ]
    },
    {
      "cell_type": "code",
      "source": [
        "reviews=soup.select('.vTVDc')\n",
        "nreviews=[]\n",
        "for i in reviews:\n",
        "        data = {}\n",
        "        data[\"review\"] = i.span.text\n",
        "        a = str(i.select('.ui_bubble_rating'))\n",
        "\n",
        "        if a.find(\"50\") != -1:\n",
        "            data[\"rating\"] = 5\n",
        "        elif a.find(\"40\") != -1:   \n",
        "            data[\"rating\"] = 4\n",
        "        elif a.find(\"30\") != -1:   \n",
        "            data[\"rating\"] = 3\n",
        "        elif a.find(\"20\") != -1:\n",
        "            data[\"rating\"] = 2\n",
        "        else:\n",
        "            data[\"rating\"] = 1\n",
        "        nreviews.append(data)"
      ],
      "metadata": {
        "id": "zXnTwcIH9-xe"
      },
      "execution_count": null,
      "outputs": []
    },
    {
      "cell_type": "code",
      "source": [
        "nreviews"
      ],
      "metadata": {
        "colab": {
          "base_uri": "https://localhost:8080/"
        },
        "id": "7AqMvamZ-ESB",
        "outputId": "87844a9a-8a52-4be5-a67d-ce3a0ee1daea"
      },
      "execution_count": null,
      "outputs": [
        {
          "output_type": "execute_result",
          "data": {
            "text/plain": [
              "[{'review': \"Our stay was great, the staff were very attentive and quick to resolve any issues or needs.   The room we stayed in was clean and quiet. We didn't hear any noise coming from the outside which is sometimes the case in other hotels located in the city center.  The high tea and breakfast were delicious.   Eight restaurant is a must if you are staying there.\"},\n",
              " {'review': 'Beautiful room with city view. Most comfortable sleeping amenities in super king bed. Bathroom great with blind. Amazing shower, 2 heads with lovely pressure. Oversized shower and bath for two people. TV great'},\n",
              " {'review': 'Check in queue took us an hour to get through, rooms are quite smaller as compared to 4 star hotels which are cheaper in price. Certain staff are clueless when asked questions. In room dining is quite sad with having to wait nearly 10-15 mins for someone to answer the phone. A $10 delivery fee is also charged for every in room dining order under $50 which I have not seen and any other hotel before. Currently I do not feel like I received 5 star service that this hotel is rated for. Improvements need to be made in terms for ease of check in/out queues and staff need to be trained to be able to answer relevant questions about our stay.'},\n",
              " {'review': \"Enjoyed our stay..comfy bed..6month old was provided a porta cot to sleep in..pricey dinner at eight although breakfast made up for it lol..Gutterrd we didn't get to enjoy the pool or spa as it was raining..would definitely stay again\"},\n",
              " {'review': 'Just completed a 2 night stay at this property over a Friday and Saturday night. While I have always had above average stays here, this time the experience was average and not up to normal Cordis/Langham standard.   The good: - New Pinnacle Tower rooms are fresh, nicely appointed with nice bathrooms and lots of space.  - Breakfast at 8 restaurant is always very good with a lot of options and extras to the normal hotel buffet.  The bad: - hotel was super full and busy but the staffing level is clearly lacking and it shows with massive wait times for checkin, disorganised and erratic concierge and a rushed and disorganised feel in general. In one case we called for our car, waited the required 20 mins to find out that no one had told the concierge team and our car wasn’t being'},\n",
              " {'review': 'Off to a rocky start with a bit of confusion on our booking but didn’t take them long to sort it out and organise us a table. Food was amazing as always. Waiter Ben J was a delight, and was able to cater to our needs. Thanks again for looking after us, and making our night a special one to remember.'},\n",
              " {'review': 'The faculties in this hotel were amazing. We had such a lovely weekend away, the staff were so friendly and efficient. The rooms were clean and welcoming and the buffet breakfast was to die for! Highly recommend!'},\n",
              " {'review': 'I availed of the valet parking service. After dinner, me and my friends decided to take some photos at the lobby when suddenly a valet staff approached me that a taxi driver hit my car’s door (driver’s side while reversing). I thought it happened in their designated valet parking but to my surprise my car was just parked at the forecourt/ driveway! \\u2028\\u2028I asked for an explanation why was it parked there and not in their usual valet parking (basement maybe? Not my first time to avail of the valet, last time they only sent my car out when I requested for it) ? One of the asst front mgr replied (by the way I sent an email first to this email - CDAKL.INFO@cordishotels.com and I did not receive any reply! Looks like no one is attending to this email so I tried to search here in'},\n",
              " {'review': 'We had the pleasure of celebrating at their restaurant 8 and boy they did not disappoint. There was a vast array of delicacies and they were all mouth watering. I thought I will have seconds but the choices were too plenty for one night I will have to come back to sample the other delightful food they have to offer. Special shoutout to Jenry and his team for serving us with excellence. Bravo!'},\n",
              " {'review': 'I had the most amazing buffet experience at the 8 Restaurant and will definitely be back! The service was incredible. Special thanks to Jenry, who went over and beyond making sure that we had the most amazing experience and all the team in the restaurant. I have never experienced a better buffet! Highly recommend!'}]"
            ]
          },
          "metadata": {},
          "execution_count": 21
        }
      ]
    },
    {
      "cell_type": "code",
      "source": [
        "df = pd.DataFrame(nreviews, columns = ['review','rating'])"
      ],
      "metadata": {
        "id": "SC6Xct5b-H_B"
      },
      "execution_count": null,
      "outputs": []
    },
    {
      "cell_type": "code",
      "source": [
        "df.head()"
      ],
      "metadata": {
        "id": "2pnlo6NG-OL_",
        "colab": {
          "base_uri": "https://localhost:8080/",
          "height": 206
        },
        "outputId": "b5553052-e71d-409c-d478-15a7dd66dd4f"
      },
      "execution_count": null,
      "outputs": [
        {
          "output_type": "execute_result",
          "data": {
            "text/plain": [
              "                                              review  rating\n",
              "0  Our stay was great, the staff were very attent...       1\n",
              "1  Beautiful room with city view. Most comfortabl...       1\n",
              "2  Check in queue took us an hour to get through,...       1\n",
              "3  Enjoyed our stay..comfy bed..6month old was pr...       1\n",
              "4  Just completed a 2 night stay at this property...       1"
            ],
            "text/html": [
              "\n",
              "  <div id=\"df-f67f0191-6e06-4d72-896d-c3863de79f95\">\n",
              "    <div class=\"colab-df-container\">\n",
              "      <div>\n",
              "<style scoped>\n",
              "    .dataframe tbody tr th:only-of-type {\n",
              "        vertical-align: middle;\n",
              "    }\n",
              "\n",
              "    .dataframe tbody tr th {\n",
              "        vertical-align: top;\n",
              "    }\n",
              "\n",
              "    .dataframe thead th {\n",
              "        text-align: right;\n",
              "    }\n",
              "</style>\n",
              "<table border=\"1\" class=\"dataframe\">\n",
              "  <thead>\n",
              "    <tr style=\"text-align: right;\">\n",
              "      <th></th>\n",
              "      <th>review</th>\n",
              "      <th>rating</th>\n",
              "    </tr>\n",
              "  </thead>\n",
              "  <tbody>\n",
              "    <tr>\n",
              "      <th>0</th>\n",
              "      <td>Our stay was great, the staff were very attent...</td>\n",
              "      <td>1</td>\n",
              "    </tr>\n",
              "    <tr>\n",
              "      <th>1</th>\n",
              "      <td>Beautiful room with city view. Most comfortabl...</td>\n",
              "      <td>1</td>\n",
              "    </tr>\n",
              "    <tr>\n",
              "      <th>2</th>\n",
              "      <td>Check in queue took us an hour to get through,...</td>\n",
              "      <td>1</td>\n",
              "    </tr>\n",
              "    <tr>\n",
              "      <th>3</th>\n",
              "      <td>Enjoyed our stay..comfy bed..6month old was pr...</td>\n",
              "      <td>1</td>\n",
              "    </tr>\n",
              "    <tr>\n",
              "      <th>4</th>\n",
              "      <td>Just completed a 2 night stay at this property...</td>\n",
              "      <td>1</td>\n",
              "    </tr>\n",
              "  </tbody>\n",
              "</table>\n",
              "</div>\n",
              "      <button class=\"colab-df-convert\" onclick=\"convertToInteractive('df-f67f0191-6e06-4d72-896d-c3863de79f95')\"\n",
              "              title=\"Convert this dataframe to an interactive table.\"\n",
              "              style=\"display:none;\">\n",
              "        \n",
              "  <svg xmlns=\"http://www.w3.org/2000/svg\" height=\"24px\"viewBox=\"0 0 24 24\"\n",
              "       width=\"24px\">\n",
              "    <path d=\"M0 0h24v24H0V0z\" fill=\"none\"/>\n",
              "    <path d=\"M18.56 5.44l.94 2.06.94-2.06 2.06-.94-2.06-.94-.94-2.06-.94 2.06-2.06.94zm-11 1L8.5 8.5l.94-2.06 2.06-.94-2.06-.94L8.5 2.5l-.94 2.06-2.06.94zm10 10l.94 2.06.94-2.06 2.06-.94-2.06-.94-.94-2.06-.94 2.06-2.06.94z\"/><path d=\"M17.41 7.96l-1.37-1.37c-.4-.4-.92-.59-1.43-.59-.52 0-1.04.2-1.43.59L10.3 9.45l-7.72 7.72c-.78.78-.78 2.05 0 2.83L4 21.41c.39.39.9.59 1.41.59.51 0 1.02-.2 1.41-.59l7.78-7.78 2.81-2.81c.8-.78.8-2.07 0-2.86zM5.41 20L4 18.59l7.72-7.72 1.47 1.35L5.41 20z\"/>\n",
              "  </svg>\n",
              "      </button>\n",
              "      \n",
              "  <style>\n",
              "    .colab-df-container {\n",
              "      display:flex;\n",
              "      flex-wrap:wrap;\n",
              "      gap: 12px;\n",
              "    }\n",
              "\n",
              "    .colab-df-convert {\n",
              "      background-color: #E8F0FE;\n",
              "      border: none;\n",
              "      border-radius: 50%;\n",
              "      cursor: pointer;\n",
              "      display: none;\n",
              "      fill: #1967D2;\n",
              "      height: 32px;\n",
              "      padding: 0 0 0 0;\n",
              "      width: 32px;\n",
              "    }\n",
              "\n",
              "    .colab-df-convert:hover {\n",
              "      background-color: #E2EBFA;\n",
              "      box-shadow: 0px 1px 2px rgba(60, 64, 67, 0.3), 0px 1px 3px 1px rgba(60, 64, 67, 0.15);\n",
              "      fill: #174EA6;\n",
              "    }\n",
              "\n",
              "    [theme=dark] .colab-df-convert {\n",
              "      background-color: #3B4455;\n",
              "      fill: #D2E3FC;\n",
              "    }\n",
              "\n",
              "    [theme=dark] .colab-df-convert:hover {\n",
              "      background-color: #434B5C;\n",
              "      box-shadow: 0px 1px 3px 1px rgba(0, 0, 0, 0.15);\n",
              "      filter: drop-shadow(0px 1px 2px rgba(0, 0, 0, 0.3));\n",
              "      fill: #FFFFFF;\n",
              "    }\n",
              "  </style>\n",
              "\n",
              "      <script>\n",
              "        const buttonEl =\n",
              "          document.querySelector('#df-f67f0191-6e06-4d72-896d-c3863de79f95 button.colab-df-convert');\n",
              "        buttonEl.style.display =\n",
              "          google.colab.kernel.accessAllowed ? 'block' : 'none';\n",
              "\n",
              "        async function convertToInteractive(key) {\n",
              "          const element = document.querySelector('#df-f67f0191-6e06-4d72-896d-c3863de79f95');\n",
              "          const dataTable =\n",
              "            await google.colab.kernel.invokeFunction('convertToInteractive',\n",
              "                                                     [key], {});\n",
              "          if (!dataTable) return;\n",
              "\n",
              "          const docLinkHtml = 'Like what you see? Visit the ' +\n",
              "            '<a target=\"_blank\" href=https://colab.research.google.com/notebooks/data_table.ipynb>data table notebook</a>'\n",
              "            + ' to learn more about interactive tables.';\n",
              "          element.innerHTML = '';\n",
              "          dataTable['output_type'] = 'display_data';\n",
              "          await google.colab.output.renderOutput(dataTable, element);\n",
              "          const docLink = document.createElement('div');\n",
              "          docLink.innerHTML = docLinkHtml;\n",
              "          element.appendChild(docLink);\n",
              "        }\n",
              "      </script>\n",
              "    </div>\n",
              "  </div>\n",
              "  "
            ]
          },
          "metadata": {},
          "execution_count": 25
        }
      ]
    },
    {
      "cell_type": "code",
      "source": [
        "\n",
        "df.to_csv('Hotels_Reviews.csv', mode='a', index=False)"
      ],
      "metadata": {
        "id": "AO71PwHy-RKg"
      },
      "execution_count": null,
      "outputs": []
    }
  ]
}